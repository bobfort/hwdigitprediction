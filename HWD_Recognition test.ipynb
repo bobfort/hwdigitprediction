{
  "nbformat": 4,
  "nbformat_minor": 0,
  "metadata": {
    "colab": {
      "name": "HWD Recognition.ipynb",
      "provenance": [],
      "authorship_tag": "ABX9TyOOomU/SCkUpQENJkvXz8dA"
    },
    "kernelspec": {
      "name": "python3",
      "display_name": "Python 3"
    },
    "language_info": {
      "name": "python"
    }
  },
  "cells": [
    {
      "cell_type": "code",
      "metadata": {
        "id": "A33eFIljW79w"
      },
      "source": [
        "import matplotlib.pyplot as plt\n",
        "%matplotlib inline\n",
        "import numpy as np\n",
        "import imageio\n",
        "from keras.datasets import mnist\n",
        "from keras.utils import to_categorical\n",
        "num_classes = 10\n",
        "\n",
        "(x_train, y_train), (x_test, y_test) = mnist.load_data()\n"
      ],
      "execution_count": 7,
      "outputs": []
    },
    {
      "cell_type": "code",
      "metadata": {
        "id": "Dvx619zpXKss"
      },
      "source": [
        "im = imageio.imread(\"/content/7.png\")\n",
        "gray = np.dot(im[...,:3], [-0.299, -0.587, -0.114])\n",
        "#gray = np.dot(im[...,:3], [1, 1, 1])"
      ],
      "execution_count": 8,
      "outputs": []
    },
    {
      "cell_type": "code",
      "metadata": {
        "id": "K3_-gZ-y0Yfc"
      },
      "source": [
        "img_rows = 28\n",
        "img_cols = 28\n",
        "\n",
        "x_train = x_train.reshape(x_train.shape[0], img_rows, img_cols, 1)\n",
        "x_test = x_test.reshape(x_test.shape[0], img_rows, img_cols, 1)\n",
        "\n",
        "x_train = np.divide (x_train, 255)\n",
        "x_test = np.divide (x_test, 255)\n",
        "\n",
        "y_train = to_categorical(y_train, num_classes)\n",
        "y_test = to_categorical(y_test, num_classes)"
      ],
      "execution_count": 9,
      "outputs": []
    },
    {
      "cell_type": "code",
      "metadata": {
        "colab": {
          "base_uri": "https://localhost:8080/",
          "height": 265
        },
        "id": "yGu4sv5cXLOX",
        "outputId": "bda4702f-3c19-4971-aead-2f3411bf18bb"
      },
      "source": [
        "plt.imshow(gray, cmap = plt.get_cmap('gray'))\n",
        "plt.show()\n",
        "\n",
        "#reshape the image\n",
        "gray = gray.reshape(1, img_rows, img_cols, 1)\n",
        "\n",
        "#normalize image\n",
        "gray = np.divide(gray, 255)\n"
      ],
      "execution_count": 10,
      "outputs": [
        {
          "output_type": "display_data",
          "data": {
            "image/png": "[encoded data removed]",
            "text/plain": [
              "<Figure size 432x288 with 1 Axes>"
            ]
          },
          "metadata": {
            "tags": [],
            "needs_background": "light"
          }
        }
      ]
    },
    {
      "cell_type": "code",
      "metadata": {
        "colab": {
          "base_uri": "https://localhost:8080/",
          "height": 282
        },
        "id": "OBMeR0dA0gPc",
        "outputId": "e94120d9-3033-4832-d5bd-c40f3ffa9abe"
      },
      "source": [
        "# load the model\n",
        "from keras.models import load_model\n",
        "model = load_model(\"HWD BCE Model.h5\")\n",
        "\n",
        "# predict digit\n",
        "\n",
        "#prediction = model.predict(gray)\n",
        "#print(prediction.argmax())\n",
        "\n",
        "print(model.predict(gray).argmax())\n",
        "plt.imshow((gray.reshape(img_rows, img_cols)))\n",
        "plt.show()"
      ],
      "execution_count": 11,
      "outputs": [
        {
          "output_type": "stream",
          "text": [
            "7\n"
          ],
          "name": "stdout"
        },
        {
          "output_type": "display_data",
          "data": {
            "image/png": "[encoded data removed]",
            "text/plain": [
              "<Figure size 432x288 with 1 Axes>"
            ]
          },
          "metadata": {
            "tags": [],
            "needs_background": "light"
          }
        }
      ]
    },
    {
      "cell_type": "code",
      "metadata": {
        "id": "aCU0aOcn_DOT"
      },
      "source": [
        ""
      ],
      "execution_count": null,
      "outputs": []
    }
  ]
}